{
  "nbformat": 4,
  "nbformat_minor": 0,
  "metadata": {
    "colab": {
      "provenance": []
    },
    "kernelspec": {
      "name": "python3",
      "display_name": "Python 3"
    },
    "language_info": {
      "name": "python"
    }
  },
  "cells": [
    {
      "cell_type": "markdown",
      "source": [
        "[link text](https://)"
      ],
      "metadata": {
        "id": "TPUmkWE6kygU"
      }
    },
    {
      "cell_type": "markdown",
      "source": [
        "#PHYTHON BASICS\n",
        "\n",
        "1. What is python and why its is popular ?\n",
        "- Python is a high-level, general-purpose programming language that is known for its simplicity, readability, and versatility. It was created by Guido van Rossum and first released in 1991. Python emphasizes code readability with a clean and straightforward syntax, which makes it a great language for beginners as well as profession\n",
        "phython is famous\n",
        "PHYTHON IS POPULAR CAUSE OF IT:\n",
        "-Easy to Learn and Use\n",
        "-Versatile & Multi-purpose\n",
        "- Massive Library Support\n",
        "-Large Community\n",
        "-Used in Emerging Fields\n",
        "\n",
        "\n",
        "2. What is interpreter in phython ?\n",
        "- An interpreter is a program that reads and executes your Python code line by line quickly\n",
        "\n",
        "\n",
        "3. What are pre defined keyword in phython ?\n",
        "- Keywords are special reserved words in Python that have predefined meanings and purposes. You can’t use them as variable names, function names, or identifiers because they’re part of the language's syntax rules.\n",
        "\n",
        "\n",
        "4. Can keywords be used as variable names ?\n",
        "- No, keywords cannot be used as variable names in Python.\n",
        "They are reserved for the language's internal use and have special meanings\n",
        "\n",
        "\n",
        "5. What is mutability in phython?\n",
        "- Mutability refers to whether or not an object can be changed after it’s created.\n",
        "\n",
        "In Python:\n",
        "\n",
        "- Mutable objects ➜ can be changed\n",
        "\n",
        "- Immutable objects ➜ cannot be changed\n",
        "\n",
        "6. Why are lists mutable,but tuple are immutable ?\n",
        "- Lists: Mutable\n",
        "Lists are meant to be flexible.\n",
        "\n",
        "You can add, remove, or change items after the list is created.\n",
        "\n",
        "Useful for dynamic data, where contents may change often.\n",
        "\n",
        "- Tuples: Immutable\n",
        "Tuples are designed to be fixed.\n",
        "\n",
        "Once created, their contents cannot be changed.\n",
        "\n",
        "Useful for fixed collections of items and safer code.\n",
        "\n",
        "\n",
        "7. What is the difference between \"==\" and \"is\" operators in phython ?\n",
        "- Difference between == and is in Python:\n",
        "\n",
        "Operator\tWhat it checks\tExample meaning\n",
        "- == :\tEquality\t\"Do they have the same value?\"\n",
        "- is :\tIdentity\t\"Are they the same object in memory?\"\n",
        "\n",
        "\n",
        "8. What are logical operators in phython ?\n",
        "- Logical operators are used to combine conditional statements (i.e., things that are either True or False).\n",
        "\n",
        "Python has three main logical operators:\n",
        "\n",
        "\n",
        "Operator\tMeaning\tExample\n",
        "and\tLogical AND\tx > 5 and x < 10\n",
        "or\tLogical OR\tx < 0 or x > 100\n",
        "not\tLogical NOT\tnot(x > 5)\n",
        "\n",
        "\n",
        "9. What is type casting in phython ?\n",
        "- Type casting in Python refers to converting one data type into another. This is useful when you want to change the type of a variable to make sure it works with specific operations or functions.\n",
        "\n",
        "There are two types of type casting in Python:\n",
        "\n",
        "Implicit Type Casting (Automatic Type Conversion)\n",
        "\n",
        "Explicit Type Casting (Manual Type Conversion)\n",
        "\n",
        "\n",
        "10. What is the difference between implict and explict type casting ?\n",
        "- 1. Implicit Type Casting (Automatic)\n",
        "What is it?\n",
        "Implicit type casting happens automatically by Python when you perform an operation between two different data types.\n",
        "\n",
        "Python converts the smaller data type (like int) to a larger data type (like float) without you explicitly telling it to do so.\n",
        "\n",
        "Key Points:\n",
        "Happens automatically.\n",
        "\n",
        "Python performs the conversion behind the scenes when needed.\n",
        "\n",
        "Smaller data types are promoted to larger data types to avoid data loss.\n",
        "2. Explicit Type Casting (Manual)\n",
        "What is it?\n",
        "Explicit type casting is when you manually convert a variable from one type to another using Python’s built-in functions like int(), float(), str(), etc.\n",
        "\n",
        "You tell Python exactly how you want to convert the variable's data type.\n",
        "\n",
        "Key Points:\n",
        "Happens manually by the programmer.\n",
        "\n",
        "You explicitly use functions like int(), float(), str(), etc., to convert data types.\n",
        "\n",
        "If you try to convert an incompatible type (e.g., a string like \"abc\" to an integer), it can cause an error.\n",
        "\n",
        "\n",
        "11. What is the purpose of conditional statements in phython?\n",
        "- Conditional statements in Python are used to make decisions in your code. They allow you to run certain blocks of code based on whether a condition is True or False. Essentially, they let you control the flow of your program.\n",
        "\n",
        "\n",
        "\n",
        "12. How does the eilf statement work?\n",
        "- The elif (short for \"else if\") statement in Python is used to check multiple conditions after an if statement. It allows you to test for additional conditions when the previous if or elif conditions have failed. The elif statement provides a way to check several possible conditions sequentially, making your code more efficient and readable.\n",
        "\n",
        "\n",
        "13. What is the difference between for and while loops ?\n",
        "- 1. for Loop:\n",
        "A for loop is used when you want to iterate over a sequence (like a list, tuple, string, or range) for a specific number of time\n",
        "2. while Loop:\n",
        "A while loop is used when you want to repeat a block of code as long as a condition is true.\n",
        "\n",
        "\n",
        "14. Describe a scenario where a while loop is more suitable than a for loop ?\n",
        "- A common situation where a while loop is more suitable than a for loop is when you need to repeatedly ask the user for input until they provide a valid response.\n",
        "\n",
        "In this case, you don’t know how many times the user will need to try before entering valid input, so a while loop is ideal since it allows the loop to keep running as long as the condition (valid input) is False.\n",
        "\n",
        "\n",
        "#Practical Questions\n",
        "\n",
        "\n",
        "\n",
        "\n"
      ],
      "metadata": {
        "id": "U0bO_AvCk333"
      }
    },
    {
      "cell_type": "code",
      "source": [
        "#Write a phython program to print, Hello World\n",
        "print(\"Hello World\")\n"
      ],
      "metadata": {
        "colab": {
          "base_uri": "https://localhost:8080/"
        },
        "id": "WbGqFpUTyooO",
        "outputId": "f566e8ae-43ca-449c-c52f-bb60418ad620"
      },
      "execution_count": null,
      "outputs": [
        {
          "output_type": "stream",
          "name": "stdout",
          "text": [
            "Hello World\n"
          ]
        }
      ]
    },
    {
      "cell_type": "code",
      "source": [
        "#Write a python program that display your name and age\n",
        "print(\"My name is JASH\")\n",
        "print(\"I am\", 17, \" years old\")\n",
        "\n"
      ],
      "metadata": {
        "id": "jxP6_giKzgPU",
        "colab": {
          "base_uri": "https://localhost:8080/"
        },
        "outputId": "c5dcc481-68cc-41c1-9f04-064d902d426d"
      },
      "execution_count": null,
      "outputs": [
        {
          "output_type": "stream",
          "name": "stdout",
          "text": [
            "My name is JASH\n",
            "I am 17  years old\n"
          ]
        }
      ]
    },
    {
      "cell_type": "code",
      "source": [
        "#Write code to print all the pre defined keywords in phython using the keyword library\n",
        "import keyword\n",
        "print(keyword.kwlist)"
      ],
      "metadata": {
        "id": "6SDwMQH7gQl5",
        "colab": {
          "base_uri": "https://localhost:8080/"
        },
        "outputId": "c4f331f5-60b9-4799-ce63-62afce7af63d"
      },
      "execution_count": null,
      "outputs": [
        {
          "output_type": "stream",
          "name": "stdout",
          "text": [
            "['False', 'None', 'True', 'and', 'as', 'assert', 'async', 'await', 'break', 'class', 'continue', 'def', 'del', 'elif', 'else', 'except', 'finally', 'for', 'from', 'global', 'if', 'import', 'in', 'is', 'lambda', 'nonlocal', 'not', 'or', 'pass', 'raise', 'return', 'try', 'while', 'with', 'yield']\n"
          ]
        }
      ]
    },
    {
      "cell_type": "code",
      "source": [
        "#write a program that checks if a given word is a python keyword\n",
        "import keyword\n",
        "word = input(\"Enter a word: \")\n",
        "if keyword.iskeyword(word):\n",
        "    print(f\"{word} is a Python keyword.\")\n",
        "else:\n",
        "    print(f\"{word} is not a Python keyword.\")"
      ],
      "metadata": {
        "id": "Ml0v-SSrgnln",
        "colab": {
          "base_uri": "https://localhost:8080/"
        },
        "outputId": "73b708ff-ea0c-418c-a311-2d448d278d7e"
      },
      "execution_count": 12,
      "outputs": [
        {
          "output_type": "stream",
          "name": "stdout",
          "text": [
            "Enter a word: Homelander\n",
            "Homelander is not a Python keyword.\n"
          ]
        }
      ]
    },
    {
      "cell_type": "code",
      "source": [
        "# Create a list and tuple in phython and demonstrate how attempting to change an element works differently for each\n",
        "my_list = [1, 2, 3, 4, 5]\n",
        "my_tuple = (1, 2, 3, 4, 5)\n",
        "my_list[0] = 10\n",
        "my_tuple[0] = 10\n",
        "try:\n",
        "    my_list[0] = 10\n",
        "    my_tuple[0] = 10\n",
        "except TypeError as e:\n",
        "    print(f\"Error: {e}\")\n"
      ],
      "metadata": {
        "id": "2OA81XyPhoCf",
        "colab": {
          "base_uri": "https://localhost:8080/",
          "height": 211
        },
        "outputId": "90cbd0ac-d228-4c36-8219-56ca81e68574"
      },
      "execution_count": 20,
      "outputs": [
        {
          "output_type": "error",
          "ename": "TypeError",
          "evalue": "'tuple' object does not support item assignment",
          "traceback": [
            "\u001b[0;31m---------------------------------------------------------------------------\u001b[0m",
            "\u001b[0;31mTypeError\u001b[0m                                 Traceback (most recent call last)",
            "\u001b[0;32m<ipython-input-20-e40701af68ae>\u001b[0m in \u001b[0;36m<cell line: 0>\u001b[0;34m()\u001b[0m\n\u001b[1;32m      3\u001b[0m \u001b[0mmy_tuple\u001b[0m \u001b[0;34m=\u001b[0m \u001b[0;34m(\u001b[0m\u001b[0;36m1\u001b[0m\u001b[0;34m,\u001b[0m \u001b[0;36m2\u001b[0m\u001b[0;34m,\u001b[0m \u001b[0;36m3\u001b[0m\u001b[0;34m,\u001b[0m \u001b[0;36m4\u001b[0m\u001b[0;34m,\u001b[0m \u001b[0;36m5\u001b[0m\u001b[0;34m)\u001b[0m\u001b[0;34m\u001b[0m\u001b[0;34m\u001b[0m\u001b[0m\n\u001b[1;32m      4\u001b[0m \u001b[0mmy_list\u001b[0m\u001b[0;34m[\u001b[0m\u001b[0;36m0\u001b[0m\u001b[0;34m]\u001b[0m \u001b[0;34m=\u001b[0m \u001b[0;36m10\u001b[0m\u001b[0;34m\u001b[0m\u001b[0;34m\u001b[0m\u001b[0m\n\u001b[0;32m----> 5\u001b[0;31m \u001b[0mmy_tuple\u001b[0m\u001b[0;34m[\u001b[0m\u001b[0;36m0\u001b[0m\u001b[0;34m]\u001b[0m \u001b[0;34m=\u001b[0m \u001b[0;36m10\u001b[0m\u001b[0;34m\u001b[0m\u001b[0;34m\u001b[0m\u001b[0m\n\u001b[0m\u001b[1;32m      6\u001b[0m \u001b[0;32mtry\u001b[0m\u001b[0;34m:\u001b[0m\u001b[0;34m\u001b[0m\u001b[0;34m\u001b[0m\u001b[0m\n\u001b[1;32m      7\u001b[0m     \u001b[0mmy_list\u001b[0m\u001b[0;34m[\u001b[0m\u001b[0;36m0\u001b[0m\u001b[0;34m]\u001b[0m \u001b[0;34m=\u001b[0m \u001b[0;36m10\u001b[0m\u001b[0;34m\u001b[0m\u001b[0;34m\u001b[0m\u001b[0m\n",
            "\u001b[0;31mTypeError\u001b[0m: 'tuple' object does not support item assignment"
          ]
        }
      ]
    }
  ]
}